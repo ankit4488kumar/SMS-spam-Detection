{
  "nbformat": 4,
  "nbformat_minor": 0,
  "metadata": {
    "colab": {
      "name": "spam_detection.ipynb",
      "provenance": [],
      "private_outputs": true,
      "collapsed_sections": []
    },
    "kernelspec": {
      "name": "python3",
      "display_name": "Python 3"
    }
  },
  "cells": [
    {
      "cell_type": "code",
      "metadata": {
        "id": "f_0Whd3l3fOs"
      },
      "source": [
        "import numpy as np\n",
        "import pandas as pd\n",
        "import string\n",
        "from sklearn.feature_extraction.text import TfidfVectorizer\n",
        "from sklearn.model_selection import train_test_split\n",
        "import nltk\n",
        "from nltk.corpus import stopwords\n",
        "from nltk.stem import SnowballStemmer\n",
        "nltk.download('stopwords')"
      ],
      "execution_count": null,
      "outputs": []
    },
    {
      "cell_type": "code",
      "metadata": {
        "id": "Ipqf7fj832vU"
      },
      "source": [
        "from google.colab import drive\n",
        "drive.mount('/content/drive')"
      ],
      "execution_count": null,
      "outputs": []
    },
    {
      "cell_type": "code",
      "metadata": {
        "id": "7PUJTiwzRk4f"
      },
      "source": [
        "data = pd.read_csv('/content/drive/My Drive/Datasets/SMS_Spam/spam.csv',encoding = \"latin\")"
      ],
      "execution_count": null,
      "outputs": []
    },
    {
      "cell_type": "code",
      "metadata": {
        "id": "yfoDgrhYSfyI"
      },
      "source": [
        "data.head()"
      ],
      "execution_count": null,
      "outputs": []
    },
    {
      "cell_type": "code",
      "metadata": {
        "id": "FeRUYt8Fci8s"
      },
      "source": [
        "data.shape"
      ],
      "execution_count": null,
      "outputs": []
    },
    {
      "cell_type": "code",
      "metadata": {
        "id": "xCBpjPHba2in"
      },
      "source": [
        "data.info()"
      ],
      "execution_count": null,
      "outputs": []
    },
    {
      "cell_type": "code",
      "metadata": {
        "id": "BB45ZlZkbjpa"
      },
      "source": [
        "data = data.drop(['Unnamed: 2', 'Unnamed: 3', 'Unnamed: 4'], axis = 1)"
      ],
      "execution_count": null,
      "outputs": []
    },
    {
      "cell_type": "code",
      "metadata": {
        "id": "Yi84Ooo6cv-i"
      },
      "source": [
        "data.head()"
      ],
      "execution_count": null,
      "outputs": []
    },
    {
      "cell_type": "code",
      "metadata": {
        "id": "Nu_O0DvUdlBB"
      },
      "source": [
        "data = data.rename(columns= {'v1':'label','v2':'message'})\n",
        "data.head()"
      ],
      "execution_count": null,
      "outputs": []
    },
    {
      "cell_type": "code",
      "metadata": {
        "id": "nPaYK4NufW9-"
      },
      "source": [
        "data.groupby('label').describe()"
      ],
      "execution_count": null,
      "outputs": []
    },
    {
      "cell_type": "code",
      "metadata": {
        "id": "1xnR2eRdfjno"
      },
      "source": [
        "data_copy = data['message'].copy()"
      ],
      "execution_count": null,
      "outputs": []
    },
    {
      "cell_type": "code",
      "metadata": {
        "id": "HmPpOy_8hLVv"
      },
      "source": [
        "def text_preprocess(text):\n",
        "    text = text.translate(str.maketrans('', '', string.punctuation))\n",
        "    text = [word for word in text.split() if word.lower() not in stopwords.words('english')]\n",
        "    return \" \".join(text)"
      ],
      "execution_count": null,
      "outputs": []
    },
    {
      "cell_type": "code",
      "metadata": {
        "id": "xDVjCe7Libb2"
      },
      "source": [
        "data_copy = data_copy.apply(text_preprocess)"
      ],
      "execution_count": null,
      "outputs": []
    },
    {
      "cell_type": "code",
      "metadata": {
        "id": "Mj-xK4kCim9B"
      },
      "source": [
        "data_copy"
      ],
      "execution_count": null,
      "outputs": []
    },
    {
      "cell_type": "code",
      "metadata": {
        "id": "fk8gg3sMjA2j"
      },
      "source": [
        "vectorizer = TfidfVectorizer(\"english\")"
      ],
      "execution_count": null,
      "outputs": []
    },
    {
      "cell_type": "code",
      "metadata": {
        "id": "OKjn5vl0jGl-"
      },
      "source": [
        "features = vectorizer.fit_transform(data_copy)"
      ],
      "execution_count": null,
      "outputs": []
    },
    {
      "cell_type": "code",
      "metadata": {
        "id": "9t7aoo1HjO0j"
      },
      "source": [
        "feature_train, feature_test, label_train, label_test = train_test_split(features, data['label'], test_size=0.25, random_state=111)"
      ],
      "execution_count": null,
      "outputs": []
    },
    {
      "cell_type": "code",
      "metadata": {
        "id": "BoPW4u6Rjsvp"
      },
      "source": [
        "from sklearn.linear_model import LogisticRegression\n",
        "from sklearn.naive_bayes import BernoulliNB\n",
        "from sklearn.metrics import accuracy_score"
      ],
      "execution_count": null,
      "outputs": []
    },
    {
      "cell_type": "code",
      "metadata": {
        "id": "RJwukeOej14t"
      },
      "source": [
        "lr_model = LogisticRegression(solver='liblinear', penalty='l1')\n",
        "lr_model.fit(feature_train, label_train)\n",
        "pred_lr = lr_model.predict(feature_test)\n",
        "print(\"Accuracy Score for logistic regression\",accuracy_score(label_test,pred_lr))"
      ],
      "execution_count": null,
      "outputs": []
    },
    {
      "cell_type": "code",
      "metadata": {
        "id": "8fTqQfIExBCz"
      },
      "source": [
        "bnb_model = BernoulliNB()\n",
        "bnb_model.fit(feature_train, label_train)\n",
        "pred_bnb = bnb_model.predict(feature_test)\n",
        "print(\"Accuracy Score for Bernoulli naive bayes\",accuracy_score(label_test,pred_bnb))"
      ],
      "execution_count": null,
      "outputs": []
    },
    {
      "cell_type": "markdown",
      "metadata": {
        "id": "h6dtA0G1w-j-"
      },
      "source": [
        "Let's try using stemming"
      ]
    },
    {
      "cell_type": "code",
      "metadata": {
        "id": "OWrDzeu6kio2"
      },
      "source": [
        "def stemmer (text):\n",
        "    text = text.split()\n",
        "    words = \"\"\n",
        "    for i in text:\n",
        "            stemmer = SnowballStemmer(\"english\")\n",
        "            words += (stemmer.stem(i))+\" \"\n",
        "    return words"
      ],
      "execution_count": null,
      "outputs": []
    },
    {
      "cell_type": "code",
      "metadata": {
        "id": "Fjr_wmcv11Cy"
      },
      "source": [
        "data_copy = data_copy.apply(stemmer)\n",
        "vectorizer = TfidfVectorizer(\"english\")\n",
        "features = vectorizer.fit_transform(data_copy)"
      ],
      "execution_count": null,
      "outputs": []
    },
    {
      "cell_type": "code",
      "metadata": {
        "id": "QnXnpTMu2CX1"
      },
      "source": [
        "feature_train, feature_test, label_train, label_test = train_test_split(features, data['label'], test_size=0.25, random_state=111)"
      ],
      "execution_count": null,
      "outputs": []
    },
    {
      "cell_type": "code",
      "metadata": {
        "id": "BkUhrgCF2N5Q"
      },
      "source": [
        "lr_model = LogisticRegression(solver='liblinear', penalty='l1')\n",
        "lr_model.fit(feature_train, label_train)\n",
        "pred_lr = lr_model.predict(feature_test)\n",
        "print(\"Accuracy Score for logistic regression\",accuracy_score(label_test,pred_lr))"
      ],
      "execution_count": null,
      "outputs": []
    },
    {
      "cell_type": "code",
      "metadata": {
        "id": "FMlLE4Dy2SMr"
      },
      "source": [
        "bnb_model = BernoulliNB()\n",
        "bnb_model.fit(feature_train, label_train)\n",
        "pred_bnb = bnb_model.predict(feature_test)\n",
        "print(\"Accuracy Score for Bernoulli naive bayes\",accuracy_score(label_test,pred_bnb))"
      ],
      "execution_count": null,
      "outputs": []
    },
    {
      "cell_type": "code",
      "metadata": {
        "id": "wVImySc82aCt"
      },
      "source": [
        ""
      ],
      "execution_count": null,
      "outputs": []
    },
    {
      "cell_type": "markdown",
      "metadata": {
        "id": "xA46fSzf2qJR"
      },
      "source": [
        " Let's try normalizing length."
      ]
    },
    {
      "cell_type": "code",
      "metadata": {
        "id": "SFH95jJC2r3-"
      },
      "source": [
        "data['length'] = data['message'].apply(len)\n",
        "data.head()"
      ],
      "execution_count": null,
      "outputs": []
    },
    {
      "cell_type": "code",
      "metadata": {
        "id": "ZrFZUvVC22Aq"
      },
      "source": [
        "data_with_len = data['length'].to_numpy()\n",
        "new_features = np.hstack((features.todense(),data_with_len[:, None]))"
      ],
      "execution_count": null,
      "outputs": []
    },
    {
      "cell_type": "code",
      "metadata": {
        "id": "nCjA3K2_3GDG"
      },
      "source": [
        "feature_train, feature_test, label_train, label_test = train_test_split(features, data['label'], test_size=0.25, random_state=111)"
      ],
      "execution_count": null,
      "outputs": []
    },
    {
      "cell_type": "code",
      "metadata": {
        "id": "0BAwqJXo4yK4"
      },
      "source": [
        "lr_model = LogisticRegression(solver='liblinear', penalty='l1')\n",
        "lr_model.fit(feature_train, label_train)\n",
        "pred_lr = lr_model.predict(feature_test)\n",
        "print(\"Accuracy Score for logistic regression\",accuracy_score(label_test,pred_lr))"
      ],
      "execution_count": null,
      "outputs": []
    },
    {
      "cell_type": "code",
      "metadata": {
        "id": "60Dj6BQX41E9"
      },
      "source": [
        "bnb_model = BernoulliNB()\n",
        "bnb_model.fit(feature_train, label_train)\n",
        "pred_bnb = bnb_model.predict(feature_test)\n",
        "print(\"Accuracy Score for Bernoulli naive bayes\",accuracy_score(label_test,pred_bnb))"
      ],
      "execution_count": null,
      "outputs": []
    },
    {
      "cell_type": "code",
      "metadata": {
        "id": "jc83Ky8i441J"
      },
      "source": [
        ""
      ],
      "execution_count": null,
      "outputs": []
    }
  ]
}